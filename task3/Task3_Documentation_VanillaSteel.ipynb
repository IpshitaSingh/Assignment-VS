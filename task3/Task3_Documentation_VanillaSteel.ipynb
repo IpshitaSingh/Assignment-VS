{
  "nbformat": 4,
  "nbformat_minor": 0,
  "metadata": {
    "colab": {
      "provenance": []
    },
    "kernelspec": {
      "name": "python3",
      "display_name": "Python 3"
    },
    "language_info": {
      "name": "python"
    }
  },
  "cells": [
    {
      "cell_type": "markdown",
      "source": [
        "# Task 3\n",
        "\n",
        "Tools Used: Big Query, SQL\n",
        "* Checked the Excel files and the column names used special characters, so will need to rename them.\n",
        "* Converting the Excel files to CSV for Big Query\n",
        "\n"
      ],
      "metadata": {
        "id": "dd-P6eltyf-u"
      }
    },
    {
      "cell_type": "code",
      "execution_count": 5,
      "metadata": {
        "id": "gIbmv1m6ybWf"
      },
      "outputs": [],
      "source": [
        "import pandas as pd"
      ]
    },
    {
      "cell_type": "code",
      "source": [
        "supplier1 = pd.read_excel(\"/content/supplier_data1.xlsx\")\n",
        "supplier2 = pd.read_excel(\"/content/supplier_data2.xlsx\")\n",
        "buyer_prefs = pd.read_excel(\"/content/buyer_preferences.xlsx\")"
      ],
      "metadata": {
        "id": "S1UOObrFzNRI"
      },
      "execution_count": 6,
      "outputs": []
    },
    {
      "cell_type": "code",
      "source": [
        "supplier1.columns"
      ],
      "metadata": {
        "colab": {
          "base_uri": "https://localhost:8080/"
        },
        "id": "suKSHMTq2REd",
        "outputId": "6aac6081-f79b-4012-d54d-646cca81c84f"
      },
      "execution_count": 7,
      "outputs": [
        {
          "output_type": "execute_result",
          "data": {
            "text/plain": [
              "Index(['Quality/Choice', 'Grade', 'Finish', 'Thickness (mm)', 'Width (mm)',\n",
              "       'Description', 'Gross weight (kg)', 'RP02', 'RM', 'Quantity', 'AG',\n",
              "       'AI'],\n",
              "      dtype='object')"
            ]
          },
          "metadata": {},
          "execution_count": 7
        }
      ]
    },
    {
      "cell_type": "code",
      "source": [
        "supplier2.columns"
      ],
      "metadata": {
        "colab": {
          "base_uri": "https://localhost:8080/"
        },
        "id": "En3EUQCC2qvZ",
        "outputId": "dd777ca8-f437-4b40-a103-293cd210a2e3"
      },
      "execution_count": 8,
      "outputs": [
        {
          "output_type": "execute_result",
          "data": {
            "text/plain": [
              "Index(['Material', 'Description', 'Article ID', 'Weight (kg)', 'Quantity',\n",
              "       'Reserved'],\n",
              "      dtype='object')"
            ]
          },
          "metadata": {},
          "execution_count": 8
        }
      ]
    },
    {
      "cell_type": "code",
      "source": [
        "buyer_prefs.columns"
      ],
      "metadata": {
        "colab": {
          "base_uri": "https://localhost:8080/"
        },
        "id": "HZmWLHej3F3L",
        "outputId": "1200261a-4680-4ad0-f83e-85f75fd61c7f"
      },
      "execution_count": 9,
      "outputs": [
        {
          "output_type": "execute_result",
          "data": {
            "text/plain": [
              "Index(['Buyer ID', 'Preferred Grade', 'Preferred Finish',\n",
              "       'Preferred Thickness (mm)', 'Preferred Width (mm)', 'Max Weight (kg)',\n",
              "       'Min Quantity'],\n",
              "      dtype='object')"
            ]
          },
          "metadata": {},
          "execution_count": 9
        }
      ]
    },
    {
      "cell_type": "code",
      "source": [
        "#renaming columns to remove special characters\n",
        "supplier1.rename(columns={\"Quality/Choice\": \"Quality_Choice\", \"Thickness (mm)\": \"Thickness_mm\",\"Width (mm)\": \"Width_mm\",\n",
        "                          \"Gross weight (kg)\": \"Gross_weight_kg\"}, inplace=True)\n",
        "\n",
        "supplier2.rename(columns={\"Weight (kg)\": \"Weight_kg\", \"Article ID\": \"Article_ID\"}, inplace=True)\n",
        "\n",
        "buyer_prefs.rename(columns={\"Buyer ID\": \"Buyer_ID\", \"Preferred Grade\": \"Preferred_Grade\", \"Preferred Finish\": \"Preferred_Finish\",\n",
        "                            \"Preferred Thickness (mm)\": \"Preferred_Thickness_mm\",\"Preferred Width (mm)\": \"Preferred_Width_mm\",\n",
        "                            \"Max Weight (kg)\": \"Max_Weight_kg\",\"Min Quantity\": \"Min_Quantity\"}, inplace=True)"
      ],
      "metadata": {
        "id": "tsnFVKSlzr4N"
      },
      "execution_count": 10,
      "outputs": []
    },
    {
      "cell_type": "code",
      "source": [
        "#saving the files as csv for Big Query\n",
        "supplier1.to_csv(\"supplier_data1.csv\", index=False)\n",
        "supplier2.to_csv(\"supplier_data2.csv\", index=False)\n",
        "buyer_prefs.to_csv(\"buyer_prefs.csv\", index=False)"
      ],
      "metadata": {
        "id": "67kv7uOp3Pt_"
      },
      "execution_count": 11,
      "outputs": []
    },
    {
      "cell_type": "markdown",
      "source": [
        "## Merging both tables on Big Query\n",
        "\n",
        "There are only two columns that are common between both tbls:\n",
        "  1. Quantity\n",
        "  2. Weight\n",
        "\n",
        "I will be keeping the non-matching columns as they might be useful later.\n",
        "\n",
        "```\n",
        "create or replace table vanillasteel-452307.vanilla_steel.suppliers_merged as  \n",
        "select 'supplier_1' as supplier_source, -- to be able to differentiate between both tbls\n",
        "  null as article_id,  \n",
        "  grade,  \n",
        "  finish,  \n",
        "  thickness_mm,  \n",
        "  width_mm,  \n",
        "  gross_weight_kg as weight_kg,  \n",
        "  quantity  \n",
        "from vanillasteel-452307.vanilla_steel.supplier_data1\n",
        "\n",
        "union all  \n",
        "\n",
        "select 'supplier_2' as supplier_source,  \n",
        "  article_id,  \n",
        "  null as grade,  \n",
        "  null as finish,  \n",
        "  null as thickness_mm,  \n",
        "  null as width_mm,  \n",
        "  weight_kg,  \n",
        "  quantity  \n",
        "from vanillasteel-452307.vanilla_steel.supplier_data2\n",
        "\n",
        "```\n",
        "\n",
        "\n",
        "\n"
      ],
      "metadata": {
        "id": "8duBt3Yj4lQZ"
      }
    },
    {
      "cell_type": "markdown",
      "source": [
        "## Matching Supplier Materials to Buyer Preferences\n",
        "\n",
        "To create the recommendation table, I used SQL on Big Query. To increase the number of matches, I have kept the join conditions flexible (as both tables have mostly non-matching columns, i.e, many missing values).\n",
        "\n",
        "I have kept grade, finish, thickness, and width as optional which can still match buyers even if a supplier doesn’t have particular field(s) available, but made weight and quantity info as compulsory for matching as both tables have it and it also is a very basic criteria for a buyer which needs to match.\n",
        "\n",
        "```\n",
        "create or replace table vanillasteel-452307.vanilla_steel.recommendations as  \n",
        "select bp.buyer_id,  \n",
        "    s.supplier_source,  \n",
        "    s.article_id,  \n",
        "    s.grade,  \n",
        "    s.finish,  \n",
        "    s.thickness_mm,  \n",
        "    s.width_mm,  \n",
        "    s.weight_kg,  \n",
        "    s.quantity  \n",
        "from vanillasteel-452307.vanilla_steel.buyer_prefs bp  \n",
        "join vanillasteel-452307.vanilla_steel.suppliers_merged s  \n",
        "    on ( 1=1\n",
        "    or (bp.preferred_grade = s.grade)\n",
        "    or (bp.preferred_finish = s.finish)\n",
        "    or (bp.preferred_thickness_mm = s.thickness_mm)\n",
        "    or (bp.preferred_width_mm = s.width_mm)\n",
        "    and (s.weight_kg <= bp.max_weight_kg)\n",
        "    and (s.quantity >= bp.min_quantity))\n",
        "\n",
        "```\n",
        "\n",
        "The Recommendations table can be exported as CSV from Big Query, but as the data is quite limited (approx. 300), I'll manually copy-paste it onto an Excel sheet for easier overview."
      ],
      "metadata": {
        "id": "t42KgQ59UUF5"
      }
    }
  ]
}