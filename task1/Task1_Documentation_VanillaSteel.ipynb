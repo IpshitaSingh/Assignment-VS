{
  "nbformat": 4,
  "nbformat_minor": 0,
  "metadata": {
    "colab": {
      "provenance": []
    },
    "kernelspec": {
      "name": "python3",
      "display_name": "Python 3"
    },
    "language_info": {
      "name": "python"
    }
  },
  "cells": [
    {
      "cell_type": "markdown",
      "source": [
        "# Task 1\n",
        "\n",
        "* Created a copy of the original folder to have as back-up, so as to not lose original data.\n",
        "\n",
        "##Preprocessed supplier_data_1:\n",
        "\n",
        "1. Standardized column names. The column names had special characters (like spaces, dots, and special symbols) which are not supported by Big Query so this has to be changed.\n",
        "The new names:\n",
        "```\n",
        "New Column Name                Original Column Name\n",
        "material_quality\t             Werksgüte\n",
        "order_grade_description\t      Bestellgütentext\n",
        "nominal_thickness_mm\t         Nenndicke NNN.NN mm mit Dezimalpunkt\n",
        "width_mm                     \tBreite\n",
        "length_mm\t                    Länge\n",
        "weight_kg\t                    Gewicht (kg)\n",
        "material_cluster             \tCluster\n",
        "si_content\t                   Si-Gehalt\n",
        "mn_content\t                   Mn-Gehalt\n",
        "p_content\t                    P-Gehalt\n",
        "s_content\t                    S-Gehalt\n",
        "cr_content\t\t               Cr-Gehalt\n",
        "ni_content\t\t               Ni-Gehalt\n",
        "mo_content\t\t               Mo-Gehalt\n",
        "v_content\t\t                V-Gehalt\n",
        "cu_content\t               \tCu-Gehalt\n",
        "nb_content\t               \tNb-Gehalt\n",
        "ti_content\t\t               Ti-Gehalt\n",
        "al_content\t\t               Al-Gehalt\n",
        "b_content\t                \tB-Gehalt\n",
        "yield_strength_mpa\t       \tStreckgrenze\n",
        "tensile_strength_mpa\t\t     Zugfestigkeit\n",
        "elongation_percent\t       \tDehnung\n",
        "\n",
        "```\n",
        "\n",
        "2. Removed duplicates using in-built function ('Remove Duplicates') on Excel.\n",
        "3. Fixed column and row datatypes (number, text).\n",
        "4. Fixed number format where needed(',' instead of '.' and vice versa).\n",
        "5. Removed incorrect entries (text in numerical cols, etc.).\n",
        "6. Handled missing values - Put 'unknown' in categorical columns with missing data. Would have replaced missing data in numeric columns with either mean, median or 0 but picking the right option would depend on context so leaving that for now.\n",
        "7. Converted to table for easier manipulation.\n",
        "\n",
        "\n",
        "## Similiarly preprocessed supplier_data_2:\n",
        "1. Removed empty columns.\n",
        "2. Handled missing data in categorical columns by filling in with 'unknown', 'null'.\n",
        "3. Specified datatypes for all columns.\n",
        "4. Converted to table for easier manipulation of data."
      ],
      "metadata": {
        "id": "aAMdMPVmgtJ2"
      }
    },
    {
      "cell_type": "markdown",
      "source": [
        "## Result\n",
        "### Combining both files:\n",
        "\n",
        "Observations:\n",
        "Since there isn't a unique identifier in both files/table, the tables can't be merged based on that.\n",
        "There are a three columns common between both tables, so I will append the data from one to the other based on this.\n",
        "\n",
        "supplier_data_2 V/S supplier_data_1 (renamed columns)\n",
        "* MATERIAL_NAME  - material_quality\n",
        "* NOMINAL_THICKNESS_MM - nominal_thickness_mm\n",
        "* WIDTH_MM - width_mm\n",
        "\n",
        "In this case, since the data is limited (approx. 100 records in each table), the simplest and fastest option would be to manually copy-paste to combine both tables, and create a new sheet.\n",
        "\n",
        "The merging is now complete. New file name: combined_supplier_data\n",
        "\n"
      ],
      "metadata": {
        "id": "SuNxswyyHrLB"
      }
    }
  ]
}